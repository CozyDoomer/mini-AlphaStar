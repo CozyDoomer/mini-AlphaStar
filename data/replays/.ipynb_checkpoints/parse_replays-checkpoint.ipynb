{
 "cells": [
  {
   "cell_type": "code",
   "execution_count": 1,
   "id": "046db064-2478-4291-9cdf-a936e2e0373a",
   "metadata": {},
   "outputs": [],
   "source": [
    "import os\n",
    "import sys\n",
    "import json\n",
    "import shutil\n",
    "from tqdm import tqdm\n",
    "from s2protocol.s2_cli import read_contents\n",
    "from mpyq import MPQArchive"
   ]
  },
  {
   "cell_type": "code",
   "execution_count": 2,
   "id": "8456743b-cbb7-4d8f-af63-953b16e84056",
   "metadata": {
    "tags": []
   },
   "outputs": [],
   "source": [
    "def parse_replay_info(replay_path):\n",
    "    archive = MPQArchive(replay_path)\n",
    "    contents = read_contents(archive, 'replay.gamemetadata.json')\n",
    "    return json.loads(contents)"
   ]
  },
  {
   "cell_type": "code",
   "execution_count": 3,
   "id": "6e3bba3e-071a-4cfe-8307-bc9b51f672c6",
   "metadata": {},
   "outputs": [],
   "source": [
    "def pretty_print_replay_info_dirh(replay_dir):\n",
    "    for replay_name in os.listdir(replay_dir):\n",
    "        replay_path = os.path.join(replay_dir, replay_name)\n",
    "        print(parse_replay_info(replay_path))"
   ]
  },
  {
   "cell_type": "code",
   "execution_count": 4,
   "id": "18028e53-8207-4fdc-82de-a5dfee78064a",
   "metadata": {},
   "outputs": [],
   "source": [
    "def copy_suitable_replay(replay_dir, output=\"output/\"):\n",
    "    output_folder = os.path.join(output, replay_dir)\n",
    "    os.makedirs(output_folder, exist_ok=True)\n",
    "    for replay_name in tqdm(os.listdir(replay_dir)):\n",
    "        try:\n",
    "            replay_path = os.path.join(replay_dir, replay_name)\n",
    "\n",
    "            meta = parse_replay_info(replay_path)\n",
    "            if \"abyssal\" in meta[\"Title\"].lower():\n",
    "                first_player = meta[\"Players\"][0]\n",
    "                if \"MMR\" in first_player and first_player[\"MMR\"] >= 3500:\n",
    "                    if first_player[\"SelectedRace\"] == \"Prot\" and first_player[\"Result\"] == \"Win\":\n",
    "                        output_path = os.path.join(output_folder, replay_name)\n",
    "                        shutil.copyfile(replay_path, output_path)\n",
    "\n",
    "                second_player = meta[\"Players\"][1]\n",
    "                if \"MMR\" in second_player and second_player[\"MMR\"] >= 3500:\n",
    "                    if second_player[\"SelectedRace\"] == \"Prot\" and second_player[\"Result\"] == \"Win\":\n",
    "                        output_path = os.path.join(output_folder, replay_name)\n",
    "                        shutil.copyfile(replay_path, output_path)\n",
    "        except Exception as e:\n",
    "            print(e)"
   ]
  },
  {
   "cell_type": "code",
   "execution_count": 11,
   "id": "845d845f-d880-4364-ae4a-c58c350cb790",
   "metadata": {
    "collapsed": true,
    "jupyter": {
     "outputs_hidden": true
    },
    "tags": []
   },
   "outputs": [
    {
     "name": "stderr",
     "output_type": "stream",
     "text": [
      " 99%|████████████████████████████████████████████████████████████████████████████▍| 63896/64396 [00:31<00:00, 2042.65it/s]\n"
     ]
    },
    {
     "ename": "error",
     "evalue": "unpack requires a buffer of 16 bytes",
     "output_type": "error",
     "traceback": [
      "\u001b[0;31m---------------------------------------------------------------------------\u001b[0m",
      "\u001b[0;31merror\u001b[0m                                     Traceback (most recent call last)",
      "\u001b[0;32m/tmp/ipykernel_481823/2582623811.py\u001b[0m in \u001b[0;36m<module>\u001b[0;34m\u001b[0m\n\u001b[1;32m      1\u001b[0m \u001b[0mreplay_dir\u001b[0m \u001b[0;34m=\u001b[0m \u001b[0;34m\"3.16.1\"\u001b[0m\u001b[0;34m\u001b[0m\u001b[0;34m\u001b[0m\u001b[0m\n\u001b[0;32m----> 2\u001b[0;31m \u001b[0mcopy_suitable_replay\u001b[0m\u001b[0;34m(\u001b[0m\u001b[0mreplay_dir\u001b[0m\u001b[0;34m)\u001b[0m\u001b[0;34m\u001b[0m\u001b[0;34m\u001b[0m\u001b[0m\n\u001b[0m",
      "\u001b[0;32m/tmp/ipykernel_481823/552458395.py\u001b[0m in \u001b[0;36mcopy_suitable_replay\u001b[0;34m(replay_dir, output)\u001b[0m\n\u001b[1;32m      5\u001b[0m         \u001b[0mreplay_path\u001b[0m \u001b[0;34m=\u001b[0m \u001b[0mos\u001b[0m\u001b[0;34m.\u001b[0m\u001b[0mpath\u001b[0m\u001b[0;34m.\u001b[0m\u001b[0mjoin\u001b[0m\u001b[0;34m(\u001b[0m\u001b[0mreplay_dir\u001b[0m\u001b[0;34m,\u001b[0m \u001b[0mreplay_name\u001b[0m\u001b[0;34m)\u001b[0m\u001b[0;34m\u001b[0m\u001b[0;34m\u001b[0m\u001b[0m\n\u001b[1;32m      6\u001b[0m \u001b[0;34m\u001b[0m\u001b[0m\n\u001b[0;32m----> 7\u001b[0;31m         \u001b[0mmeta\u001b[0m \u001b[0;34m=\u001b[0m \u001b[0mparse_replay_info\u001b[0m\u001b[0;34m(\u001b[0m\u001b[0mreplay_path\u001b[0m\u001b[0;34m)\u001b[0m\u001b[0;34m\u001b[0m\u001b[0;34m\u001b[0m\u001b[0m\n\u001b[0m\u001b[1;32m      8\u001b[0m         \u001b[0;32mif\u001b[0m \u001b[0;34m\"abyssal\"\u001b[0m \u001b[0;32min\u001b[0m \u001b[0mmeta\u001b[0m\u001b[0;34m[\u001b[0m\u001b[0;34m\"Title\"\u001b[0m\u001b[0;34m]\u001b[0m\u001b[0;34m.\u001b[0m\u001b[0mlower\u001b[0m\u001b[0;34m(\u001b[0m\u001b[0;34m)\u001b[0m\u001b[0;34m:\u001b[0m\u001b[0;34m\u001b[0m\u001b[0;34m\u001b[0m\u001b[0m\n\u001b[1;32m      9\u001b[0m             \u001b[0mfirst_player\u001b[0m \u001b[0;34m=\u001b[0m \u001b[0mmeta\u001b[0m\u001b[0;34m[\u001b[0m\u001b[0;34m\"Players\"\u001b[0m\u001b[0;34m]\u001b[0m\u001b[0;34m[\u001b[0m\u001b[0;36m0\u001b[0m\u001b[0;34m]\u001b[0m\u001b[0;34m\u001b[0m\u001b[0;34m\u001b[0m\u001b[0m\n",
      "\u001b[0;32m/tmp/ipykernel_481823/3595494549.py\u001b[0m in \u001b[0;36mparse_replay_info\u001b[0;34m(replay_path)\u001b[0m\n\u001b[1;32m      1\u001b[0m \u001b[0;32mdef\u001b[0m \u001b[0mparse_replay_info\u001b[0m\u001b[0;34m(\u001b[0m\u001b[0mreplay_path\u001b[0m\u001b[0;34m)\u001b[0m\u001b[0;34m:\u001b[0m\u001b[0;34m\u001b[0m\u001b[0;34m\u001b[0m\u001b[0m\n\u001b[0;32m----> 2\u001b[0;31m     \u001b[0marchive\u001b[0m \u001b[0;34m=\u001b[0m \u001b[0mMPQArchive\u001b[0m\u001b[0;34m(\u001b[0m\u001b[0mreplay_path\u001b[0m\u001b[0;34m)\u001b[0m\u001b[0;34m\u001b[0m\u001b[0;34m\u001b[0m\u001b[0m\n\u001b[0m\u001b[1;32m      3\u001b[0m     \u001b[0mcontents\u001b[0m \u001b[0;34m=\u001b[0m \u001b[0mread_contents\u001b[0m\u001b[0;34m(\u001b[0m\u001b[0marchive\u001b[0m\u001b[0;34m,\u001b[0m \u001b[0;34m'replay.gamemetadata.json'\u001b[0m\u001b[0;34m)\u001b[0m\u001b[0;34m\u001b[0m\u001b[0;34m\u001b[0m\u001b[0m\n\u001b[1;32m      4\u001b[0m     \u001b[0;32mreturn\u001b[0m \u001b[0mjson\u001b[0m\u001b[0;34m.\u001b[0m\u001b[0mloads\u001b[0m\u001b[0;34m(\u001b[0m\u001b[0mcontents\u001b[0m\u001b[0;34m)\u001b[0m\u001b[0;34m\u001b[0m\u001b[0;34m\u001b[0m\u001b[0m\n",
      "\u001b[0;32m~/miniconda/envs/sc2rl/lib/python3.7/site-packages/mpyq.py\u001b[0m in \u001b[0;36m__init__\u001b[0;34m(self, filename, listfile)\u001b[0m\n\u001b[1;32m     99\u001b[0m             \u001b[0mself\u001b[0m\u001b[0;34m.\u001b[0m\u001b[0mfile\u001b[0m \u001b[0;34m=\u001b[0m \u001b[0mopen\u001b[0m\u001b[0;34m(\u001b[0m\u001b[0mfilename\u001b[0m\u001b[0;34m,\u001b[0m \u001b[0;34m'rb'\u001b[0m\u001b[0;34m)\u001b[0m\u001b[0;34m\u001b[0m\u001b[0;34m\u001b[0m\u001b[0m\n\u001b[1;32m    100\u001b[0m         \u001b[0mself\u001b[0m\u001b[0;34m.\u001b[0m\u001b[0mheader\u001b[0m \u001b[0;34m=\u001b[0m \u001b[0mself\u001b[0m\u001b[0;34m.\u001b[0m\u001b[0mread_header\u001b[0m\u001b[0;34m(\u001b[0m\u001b[0;34m)\u001b[0m\u001b[0;34m\u001b[0m\u001b[0;34m\u001b[0m\u001b[0m\n\u001b[0;32m--> 101\u001b[0;31m         \u001b[0mself\u001b[0m\u001b[0;34m.\u001b[0m\u001b[0mhash_table\u001b[0m \u001b[0;34m=\u001b[0m \u001b[0mself\u001b[0m\u001b[0;34m.\u001b[0m\u001b[0mread_table\u001b[0m\u001b[0;34m(\u001b[0m\u001b[0;34m'hash'\u001b[0m\u001b[0;34m)\u001b[0m\u001b[0;34m\u001b[0m\u001b[0;34m\u001b[0m\u001b[0m\n\u001b[0m\u001b[1;32m    102\u001b[0m         \u001b[0mself\u001b[0m\u001b[0;34m.\u001b[0m\u001b[0mblock_table\u001b[0m \u001b[0;34m=\u001b[0m \u001b[0mself\u001b[0m\u001b[0;34m.\u001b[0m\u001b[0mread_table\u001b[0m\u001b[0;34m(\u001b[0m\u001b[0;34m'block'\u001b[0m\u001b[0;34m)\u001b[0m\u001b[0;34m\u001b[0m\u001b[0;34m\u001b[0m\u001b[0m\n\u001b[1;32m    103\u001b[0m         \u001b[0;32mif\u001b[0m \u001b[0mlistfile\u001b[0m\u001b[0;34m:\u001b[0m\u001b[0;34m\u001b[0m\u001b[0;34m\u001b[0m\u001b[0m\n",
      "\u001b[0;32m~/miniconda/envs/sc2rl/lib/python3.7/site-packages/mpyq.py\u001b[0m in \u001b[0;36mread_table\u001b[0;34m(self, table_type)\u001b[0m\n\u001b[1;32m    170\u001b[0m                 struct.unpack(entry_class.struct_format, entry_data))\n\u001b[1;32m    171\u001b[0m \u001b[0;34m\u001b[0m\u001b[0m\n\u001b[0;32m--> 172\u001b[0;31m         \u001b[0;32mreturn\u001b[0m \u001b[0;34m[\u001b[0m\u001b[0munpack_entry\u001b[0m\u001b[0;34m(\u001b[0m\u001b[0mi\u001b[0m\u001b[0;34m)\u001b[0m \u001b[0;32mfor\u001b[0m \u001b[0mi\u001b[0m \u001b[0;32min\u001b[0m \u001b[0mrange\u001b[0m\u001b[0;34m(\u001b[0m\u001b[0mtable_entries\u001b[0m\u001b[0;34m)\u001b[0m\u001b[0;34m]\u001b[0m\u001b[0;34m\u001b[0m\u001b[0;34m\u001b[0m\u001b[0m\n\u001b[0m\u001b[1;32m    173\u001b[0m \u001b[0;34m\u001b[0m\u001b[0m\n\u001b[1;32m    174\u001b[0m     \u001b[0;32mdef\u001b[0m \u001b[0mget_hash_table_entry\u001b[0m\u001b[0;34m(\u001b[0m\u001b[0mself\u001b[0m\u001b[0;34m,\u001b[0m \u001b[0mfilename\u001b[0m\u001b[0;34m)\u001b[0m\u001b[0;34m:\u001b[0m\u001b[0;34m\u001b[0m\u001b[0;34m\u001b[0m\u001b[0m\n",
      "\u001b[0;32m~/miniconda/envs/sc2rl/lib/python3.7/site-packages/mpyq.py\u001b[0m in \u001b[0;36m<listcomp>\u001b[0;34m(.0)\u001b[0m\n\u001b[1;32m    170\u001b[0m                 struct.unpack(entry_class.struct_format, entry_data))\n\u001b[1;32m    171\u001b[0m \u001b[0;34m\u001b[0m\u001b[0m\n\u001b[0;32m--> 172\u001b[0;31m         \u001b[0;32mreturn\u001b[0m \u001b[0;34m[\u001b[0m\u001b[0munpack_entry\u001b[0m\u001b[0;34m(\u001b[0m\u001b[0mi\u001b[0m\u001b[0;34m)\u001b[0m \u001b[0;32mfor\u001b[0m \u001b[0mi\u001b[0m \u001b[0;32min\u001b[0m \u001b[0mrange\u001b[0m\u001b[0;34m(\u001b[0m\u001b[0mtable_entries\u001b[0m\u001b[0;34m)\u001b[0m\u001b[0;34m]\u001b[0m\u001b[0;34m\u001b[0m\u001b[0;34m\u001b[0m\u001b[0m\n\u001b[0m\u001b[1;32m    173\u001b[0m \u001b[0;34m\u001b[0m\u001b[0m\n\u001b[1;32m    174\u001b[0m     \u001b[0;32mdef\u001b[0m \u001b[0mget_hash_table_entry\u001b[0m\u001b[0;34m(\u001b[0m\u001b[0mself\u001b[0m\u001b[0;34m,\u001b[0m \u001b[0mfilename\u001b[0m\u001b[0;34m)\u001b[0m\u001b[0;34m:\u001b[0m\u001b[0;34m\u001b[0m\u001b[0;34m\u001b[0m\u001b[0m\n",
      "\u001b[0;32m~/miniconda/envs/sc2rl/lib/python3.7/site-packages/mpyq.py\u001b[0m in \u001b[0;36munpack_entry\u001b[0;34m(position)\u001b[0m\n\u001b[1;32m    168\u001b[0m             \u001b[0mentry_data\u001b[0m \u001b[0;34m=\u001b[0m \u001b[0mdata\u001b[0m\u001b[0;34m[\u001b[0m\u001b[0mposition\u001b[0m\u001b[0;34m*\u001b[0m\u001b[0;36m16\u001b[0m\u001b[0;34m:\u001b[0m\u001b[0mposition\u001b[0m\u001b[0;34m*\u001b[0m\u001b[0;36m16\u001b[0m\u001b[0;34m+\u001b[0m\u001b[0;36m16\u001b[0m\u001b[0;34m]\u001b[0m\u001b[0;34m\u001b[0m\u001b[0;34m\u001b[0m\u001b[0m\n\u001b[1;32m    169\u001b[0m             return entry_class._make(\n\u001b[0;32m--> 170\u001b[0;31m                 struct.unpack(entry_class.struct_format, entry_data))\n\u001b[0m\u001b[1;32m    171\u001b[0m \u001b[0;34m\u001b[0m\u001b[0m\n\u001b[1;32m    172\u001b[0m         \u001b[0;32mreturn\u001b[0m \u001b[0;34m[\u001b[0m\u001b[0munpack_entry\u001b[0m\u001b[0;34m(\u001b[0m\u001b[0mi\u001b[0m\u001b[0;34m)\u001b[0m \u001b[0;32mfor\u001b[0m \u001b[0mi\u001b[0m \u001b[0;32min\u001b[0m \u001b[0mrange\u001b[0m\u001b[0;34m(\u001b[0m\u001b[0mtable_entries\u001b[0m\u001b[0;34m)\u001b[0m\u001b[0;34m]\u001b[0m\u001b[0;34m\u001b[0m\u001b[0;34m\u001b[0m\u001b[0m\n",
      "\u001b[0;31merror\u001b[0m: unpack requires a buffer of 16 bytes"
     ]
    }
   ],
   "source": [
    "replay_dir = \"3.16.1\"\n",
    "copy_suitable_replay(replay_dir)"
   ]
  },
  {
   "cell_type": "code",
   "execution_count": 7,
   "id": "0aa9a8e5-8fac-464d-b06b-6f7a6b901ccc",
   "metadata": {
    "tags": []
   },
   "outputs": [
    {
     "name": "stderr",
     "output_type": "stream",
     "text": [
      " 18%|█████████████▌                                                              | 35815/200688 [00:17<01:32, 1787.49it/s]"
     ]
    },
    {
     "name": "stdout",
     "output_type": "stream",
     "text": [
      "Invalid file header.\n"
     ]
    },
    {
     "name": "stderr",
     "output_type": "stream",
     "text": [
      "100%|███████████████████████████████████████████████████████████████████████████| 200688/200688 [02:18<00:00, 1444.95it/s]\n"
     ]
    }
   ],
   "source": [
    "replay_dir = \"4.1.2\"\n",
    "copy_suitable_replay(replay_dir)"
   ]
  },
  {
   "cell_type": "code",
   "execution_count": null,
   "id": "19c6b6e2-8d13-4be1-94da-a68fbd462ef1",
   "metadata": {},
   "outputs": [],
   "source": [
    "replay_dir = \"selected-liuruoze\"\n",
    "parse_replay_info(replay_dir)"
   ]
  },
  {
   "cell_type": "code",
   "execution_count": 10,
   "id": "eb9c9b3a-bef3-4c25-9786-df4c57f1be12",
   "metadata": {},
   "outputs": [],
   "source": [
    "!mkdir abyssal-reef-dataset\n",
    "!cp -r ./output/3.16.1/* ./abyssal-reef-dataset\n",
    "!cp -r ./output/4.1.2/* ./abyssal-reef-dataset"
   ]
  },
  {
   "cell_type": "code",
   "execution_count": 11,
   "id": "0aa0d272-58fb-46f9-985d-c09e402eefb4",
   "metadata": {},
   "outputs": [],
   "source": [
    "# from sklearn.model_selection import train_test_split"
   ]
  },
  {
   "cell_type": "code",
   "execution_count": 14,
   "id": "47f31f09-ff47-4f78-a652-a58dfb0a7d4b",
   "metadata": {},
   "outputs": [],
   "source": [
    "# dataset_items = os.listdir(\"abyssal-reef-dataset\")\n",
    "# train_items, val_items = train_test_split(dataset_items, test_size=0.15)"
   ]
  },
  {
   "cell_type": "code",
   "execution_count": null,
   "id": "22eb4a25-0add-42ce-b937-01f37ffb69a8",
   "metadata": {},
   "outputs": [],
   "source": [
    "# train_split_folder = \"abyssal-reef-dataset/train\"\n",
    "# val_split_folder = \"abyssal-\n",
    "# \n",
    "# for train_item in train_items:\n",
    "#     shutil.copyfile(train_item, train_split_folder)\n",
    "# \n",
    "# for val_item in val_items:\n",
    "#     shutil.copyfile(val_item, val_split_folder)"
   ]
  }
 ],
 "metadata": {
  "kernelspec": {
   "display_name": "Python 3 (ipykernel)",
   "language": "python",
   "name": "python3"
  },
  "language_info": {
   "codemirror_mode": {
    "name": "ipython",
    "version": 3
   },
   "file_extension": ".py",
   "mimetype": "text/x-python",
   "name": "python",
   "nbconvert_exporter": "python",
   "pygments_lexer": "ipython3",
   "version": "3.7.13"
  }
 },
 "nbformat": 4,
 "nbformat_minor": 5
}
