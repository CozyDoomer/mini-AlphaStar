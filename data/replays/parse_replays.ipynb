{
 "cells": [
  {
   "cell_type": "code",
   "execution_count": 1,
   "id": "046db064-2478-4291-9cdf-a936e2e0373a",
   "metadata": {},
   "outputs": [],
   "source": [
    "import os\n",
    "import sys\n",
    "import json\n",
    "import shutil\n",
    "from tqdm import tqdm\n",
    "from s2protocol.s2_cli import read_contents\n",
    "from mpyq import MPQArchive"
   ]
  },
  {
   "cell_type": "code",
   "execution_count": null,
   "id": "7a316ed3-b6fa-4bb7-be91-058fabe4bec6",
   "metadata": {},
   "outputs": [],
   "source": [
    "PLAYER_MMR = 4500"
   ]
  },
  {
   "cell_type": "code",
   "execution_count": 2,
   "id": "8456743b-cbb7-4d8f-af63-953b16e84056",
   "metadata": {
    "tags": []
   },
   "outputs": [],
   "source": [
    "def parse_replay_info(replay_path):\n",
    "    archive = MPQArchive(replay_path)\n",
    "    contents = read_contents(archive, 'replay.gamemetadata.json')\n",
    "    return json.loads(contents)"
   ]
  },
  {
   "cell_type": "code",
   "execution_count": 3,
   "id": "6e3bba3e-071a-4cfe-8307-bc9b51f672c6",
   "metadata": {},
   "outputs": [],
   "source": [
    "def pretty_print_replay_info_dirh(replay_dir):\n",
    "    for replay_name in os.listdir(replay_dir):\n",
    "        replay_path = os.path.join(replay_dir, replay_name)\n",
    "        print(parse_replay_info(replay_path))"
   ]
  },
  {
   "cell_type": "code",
   "execution_count": 4,
   "id": "18028e53-8207-4fdc-82de-a5dfee78064a",
   "metadata": {},
   "outputs": [],
   "source": [
    "def copy_suitable_replay(replay_dir, output=\"output/\"):\n",
    "    output_folder = os.path.join(output, replay_dir)\n",
    "    os.makedirs(output_folder, exist_ok=True)\n",
    "    for replay_name in tqdm(os.listdir(replay_dir)):\n",
    "        try:\n",
    "            replay_path = os.path.join(replay_dir, replay_name)\n",
    "\n",
    "            meta = parse_replay_info(replay_path)\n",
    "            if \"abyssal\" in meta[\"Title\"].lower():\n",
    "                first_player = meta[\"Players\"][0]\n",
    "                if \"MMR\" in first_player and first_player[\"MMR\"] >= PLAYER_MMR:\n",
    "                    if first_player[\"SelectedRace\"] == \"Prot\" and first_player[\"Result\"] == \"Win\":\n",
    "                        output_path = os.path.join(output_folder, replay_name)\n",
    "                        shutil.copyfile(replay_path, output_path)\n",
    "\n",
    "                second_player = meta[\"Players\"][1]\n",
    "                if \"MMR\" in second_player and second_player[\"MMR\"] >= PLAYER_MMR:\n",
    "                    if second_player[\"SelectedRace\"] == \"Prot\" and second_player[\"Result\"] == \"Win\":\n",
    "                        output_path = os.path.join(output_folder, replay_name)\n",
    "                        shutil.copyfile(replay_path, output_path)\n",
    "        except Exception as e:\n",
    "            print(e)"
   ]
  },
  {
   "cell_type": "code",
   "execution_count": 23,
   "id": "845d845f-d880-4364-ae4a-c58c350cb790",
   "metadata": {
    "tags": []
   },
   "outputs": [
    {
     "name": "stderr",
     "output_type": "stream",
     "text": [
      "100%|████████████████████████████████████████████████████████████████████████████▋| 64112/64396 [00:53<00:00, 1228.05it/s]"
     ]
    },
    {
     "name": "stdout",
     "output_type": "stream",
     "text": [
      "unpack requires a buffer of 16 bytes\n"
     ]
    },
    {
     "name": "stderr",
     "output_type": "stream",
     "text": [
      "100%|█████████████████████████████████████████████████████████████████████████████| 64396/64396 [00:53<00:00, 1203.17it/s]\n"
     ]
    }
   ],
   "source": [
    "replay_dir = \"3.16.1\"\n",
    "copy_suitable_replay(replay_dir)"
   ]
  },
  {
   "cell_type": "code",
   "execution_count": 20,
   "id": "0aa9a8e5-8fac-464d-b06b-6f7a6b901ccc",
   "metadata": {
    "tags": []
   },
   "outputs": [
    {
     "name": "stderr",
     "output_type": "stream",
     "text": [
      " 18%|█████████████▌                                                              | 35791/200688 [00:29<02:14, 1228.48it/s]"
     ]
    },
    {
     "name": "stdout",
     "output_type": "stream",
     "text": [
      "Invalid file header.\n"
     ]
    },
    {
     "name": "stderr",
     "output_type": "stream",
     "text": [
      "100%|███████████████████████████████████████████████████████████████████████████| 200688/200688 [02:45<00:00, 1209.78it/s]\n"
     ]
    }
   ],
   "source": [
    "replay_dir = \"4.1.2\"\n",
    "copy_suitable_replay(replay_dir)"
   ]
  },
  {
   "cell_type": "code",
   "execution_count": null,
   "id": "19c6b6e2-8d13-4be1-94da-a68fbd462ef1",
   "metadata": {},
   "outputs": [],
   "source": [
    "replay_dir = \"selected-liuruoze\"\n",
    "parse_replay_info(replay_dir)"
   ]
  },
  {
   "cell_type": "code",
   "execution_count": null,
   "id": "cb39d8bc-4cdf-4baf-a4af-b79d5d2dfebd",
   "metadata": {},
   "outputs": [],
   "source": [
    "# PLAYER_MMR"
   ]
  },
  {
   "cell_type": "code",
   "execution_count": 5,
   "id": "eb9c9b3a-bef3-4c25-9786-df4c57f1be12",
   "metadata": {},
   "outputs": [],
   "source": [
    "!mkdir abyssal-reef-dataset-4500\n",
    "#!cp -r ./output/3.16.1/* ./abyssal-reef-dataset\n",
    "!cp -r ./output/4.1.2/* ./abyssal-reef-dataset"
   ]
  },
  {
   "cell_type": "code",
   "execution_count": 11,
   "id": "0aa0d272-58fb-46f9-985d-c09e402eefb4",
   "metadata": {},
   "outputs": [],
   "source": [
    "# from sklearn.model_selection import train_test_split"
   ]
  },
  {
   "cell_type": "code",
   "execution_count": 14,
   "id": "47f31f09-ff47-4f78-a652-a58dfb0a7d4b",
   "metadata": {},
   "outputs": [],
   "source": [
    "# dataset_items = os.listdir(\"abyssal-reef-dataset\")\n",
    "# train_items, val_items = train_test_split(dataset_items, test_size=0.15)"
   ]
  },
  {
   "cell_type": "code",
   "execution_count": null,
   "id": "22eb4a25-0add-42ce-b937-01f37ffb69a8",
   "metadata": {},
   "outputs": [],
   "source": [
    "# train_split_folder = \"abyssal-reef-dataset/train\"\n",
    "# val_split_folder = \"abyssal-\n",
    "# \n",
    "# for train_item in train_items:\n",
    "#     shutil.copyfile(train_item, train_split_folder)\n",
    "# \n",
    "# for val_item in val_items:\n",
    "#     shutil.copyfile(val_item, val_split_folder)"
   ]
  }
 ],
 "metadata": {
  "kernelspec": {
   "display_name": "Python 3 (ipykernel)",
   "language": "python",
   "name": "python3"
  },
  "language_info": {
   "codemirror_mode": {
    "name": "ipython",
    "version": 3
   },
   "file_extension": ".py",
   "mimetype": "text/x-python",
   "name": "python",
   "nbconvert_exporter": "python",
   "pygments_lexer": "ipython3",
   "version": "3.7.13"
  }
 },
 "nbformat": 4,
 "nbformat_minor": 5
}
